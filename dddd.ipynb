{
 "cells": [
  {
   "cell_type": "code",
   "execution_count": 5,
   "metadata": {},
   "outputs": [],
   "source": [
    "from PIL import ImageGrab\n",
    "def take_screenshot(\n",
    "        path_save: str,\n",
    "        x_l: int,\n",
    "        y_l: int,\n",
    "        x_r: int,\n",
    "        y_r: int):\n",
    "    screenshot = ImageGrab.grab(bbox = (x_l, y_l, x_r, y_r))\n",
    "    screenshot.save(path_save)\n",
    "take_screenshot(\"asd.png\",0,100,200,200)\n",
    "\n",
    "p_1_1 = (3265, 150)\n",
    "p_1_2 = (3800, 1000)\n",
    "p_2_1 = (120, 165)\n",
    "p_2_2 = (800, 890)\n",
    "\n",
    "#foto2(3265, 150),(3800, 1000)\n",
    "#foto1(120, 165)(800, 890)\n",
    "take_screenshot(\"asd_1.png\", *p_1_1, *p_1_2)\n",
    "take_screenshot(\"asd_2.png\", *p_2_1, *p_2_2)"
   ]
  },
  {
   "cell_type": "code",
   "execution_count": 10,
   "metadata": {},
   "outputs": [
    {
     "data": {
      "text/plain": [
       "'1689206830_853102'"
      ]
     },
     "execution_count": 10,
     "metadata": {},
     "output_type": "execute_result"
    }
   ],
   "source": [
    "from datetime import datetime\n",
    "t = str(datetime.now().timestamp()).replace(\".\",\"_\")\n",
    "t"
   ]
  }
 ],
 "metadata": {
  "kernelspec": {
   "display_name": "env",
   "language": "python",
   "name": "python3"
  },
  "language_info": {
   "codemirror_mode": {
    "name": "ipython",
    "version": 3
   },
   "file_extension": ".py",
   "mimetype": "text/x-python",
   "name": "python",
   "nbconvert_exporter": "python",
   "pygments_lexer": "ipython3",
   "version": "3.10.6"
  },
  "orig_nbformat": 4
 },
 "nbformat": 4,
 "nbformat_minor": 2
}
