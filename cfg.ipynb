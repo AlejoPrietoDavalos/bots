{
 "cells": [
  {
   "cell_type": "code",
   "execution_count": 1,
   "metadata": {},
   "outputs": [],
   "source": [
    "from pathlib import Path\n",
    "import json\n",
    "import os\n",
    "\n",
    "from dsai.config import CfgDS, CfgChannelDS\n",
    "\n",
    "cfg_channel_gipitingi = CfgChannelDS(\n",
    "    author_ids=[      \n",
    "        239137952607895552,     # __pepocho__\n",
    "    ],\n",
    "    ctx=\"Responde todo de forma sarcástica y muy breve.\",\n",
    "    model=\"gpt-4o\"\n",
    ")\n",
    "\n",
    "cfg_ds = CfgDS(\n",
    "    channel_id2author_ids_allowed={\n",
    "        1269635875080503409: cfg_channel_gipitingi  # Channel: gipitingi\n",
    "    },\n",
    "    limit_msg = 20\n",
    ")\n",
    "\n",
    "path_cfg_ds = Path(os.getenv(\"PATH_CFG_DS\"))\n",
    "with open(path_cfg_ds, \"w\") as f:\n",
    "    json.dump(cfg_ds.model_dump(), f)\n"
   ]
  }
 ],
 "metadata": {
  "kernelspec": {
   "display_name": "env",
   "language": "python",
   "name": "python3"
  },
  "language_info": {
   "codemirror_mode": {
    "name": "ipython",
    "version": 3
   },
   "file_extension": ".py",
   "mimetype": "text/x-python",
   "name": "python",
   "nbconvert_exporter": "python",
   "pygments_lexer": "ipython3",
   "version": "3.12.4"
  }
 },
 "nbformat": 4,
 "nbformat_minor": 2
}
