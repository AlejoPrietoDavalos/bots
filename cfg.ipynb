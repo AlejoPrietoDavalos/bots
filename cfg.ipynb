{
 "cells": [
  {
   "cell_type": "code",
   "execution_count": 1,
   "metadata": {},
   "outputs": [],
   "source": [
    "from pathlib import Path\n",
    "import json\n",
    "import os\n",
    "\n",
    "from dsai.config import CfgDS, CfgChannelDS\n"
   ]
  },
  {
   "cell_type": "code",
   "execution_count": 2,
   "metadata": {},
   "outputs": [],
   "source": [
    "CTX = \"\"\"\n",
    "Tu nombre es `pepy`, el asistente de IA de DotPy, un server de discord.\n",
    "Sos un experto en Python y ciencia de datos, además eres un excelente maestro.\n",
    "Tu tarea es ser un soporte y ayudar en tareas de programación.\n",
    "\n",
    "### Formato de tus respuestas:\n",
    "- Escribe con Markdown cuando sea necesario para código y resalta las palabras clave con '`' cuando sea opoertuno.\n",
    "- Debes responder con la mínima cantidad de caracteres posible.\n",
    "- Tus respuestas deben ser cortas y concisas, no redundes en detalles irrelevantes para la consulta.\n",
    "- Céntrate en la pregunta específica y dí como resolver únicamente eso, no escribas demaciado texto.\n",
    "- Debes responder siempre en menos de 1900 caracteres.\n",
    "\"\"\".strip()\n",
    "cfg_channel_gipitingi = CfgChannelDS(\n",
    "    author_ids=[      \n",
    "        239137952607895552,     # __pepocho__\n",
    "    ],\n",
    "    ctx=CTX,\n",
    "    model=\"gpt-4o\"\n",
    ")"
   ]
  },
  {
   "cell_type": "code",
   "execution_count": 3,
   "metadata": {},
   "outputs": [],
   "source": [
    "\n",
    "\n",
    "cfg_ds = CfgDS(\n",
    "    channel_id2author_ids_allowed={\n",
    "        1269635875080503409: cfg_channel_gipitingi  # Channel: gipitingi\n",
    "    },\n",
    "    limit_msg = 20\n",
    ")\n",
    "\n"
   ]
  },
  {
   "cell_type": "markdown",
   "metadata": {},
   "source": [
    "- Save config."
   ]
  },
  {
   "cell_type": "code",
   "execution_count": 4,
   "metadata": {},
   "outputs": [],
   "source": [
    "path_cfg_ds = Path(os.getenv(\"PATH_CFG_DS\"))\n",
    "with open(path_cfg_ds, \"w\") as f:\n",
    "    json.dump(cfg_ds.model_dump(), f)"
   ]
  },
  {
   "cell_type": "code",
   "execution_count": null,
   "metadata": {},
   "outputs": [],
   "source": []
  }
 ],
 "metadata": {
  "kernelspec": {
   "display_name": "env",
   "language": "python",
   "name": "python3"
  },
  "language_info": {
   "codemirror_mode": {
    "name": "ipython",
    "version": 3
   },
   "file_extension": ".py",
   "mimetype": "text/x-python",
   "name": "python",
   "nbconvert_exporter": "python",
   "pygments_lexer": "ipython3",
   "version": "3.12.4"
  }
 },
 "nbformat": 4,
 "nbformat_minor": 2
}
